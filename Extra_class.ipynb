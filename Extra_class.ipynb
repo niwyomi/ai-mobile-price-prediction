{
 "cells": [
  {
   "cell_type": "markdown",
   "metadata": {},
   "source": [
    "<span style=\"color: #83eef7; font-size:76px; font-weight: bold; text-align: left; display: block;\" dir=\"ltr\">\n",
    "Project 1 : Example\n",
    "</span>"
   ]
  },
  {
   "attachments": {},
   "cell_type": "markdown",
   "metadata": {},
   "source": [
    "<a name=\"import_libraries\"></a>\n",
    "# **<font color='lightblue'>📌import libraries</font>**\n",
    "---"
   ]
  },
  {
   "cell_type": "code",
   "execution_count": 1,
   "metadata": {},
   "outputs": [],
   "source": [
    "import pandas as pd\n",
    "from sklearn.model_selection import train_test_split\n",
    "from sklearn.linear_model import LinearRegression\n",
    "from sklearn.metrics import mean_squared_error\n",
    "from sklearn.preprocessing import StandardScaler\n",
    "import pickle\n",
    "import matplotlib.pyplot as plt\n",
    "import seaborn as sns"
   ]
  },
  {
   "attachments": {},
   "cell_type": "markdown",
   "metadata": {},
   "source": [
    "<a name=\"load_data\"></a>\n",
    "# **<font color='lightblue'>📌load data</font>**\n",
    "---"
   ]
  },
  {
   "attachments": {},
   "cell_type": "markdown",
   "metadata": {},
   "source": []
  },
  {
   "cell_type": "code",
   "execution_count": 2,
   "metadata": {},
   "outputs": [],
   "source": [
    "def load_data(test_size=0.2):  \n",
    "    \"\"\" \n",
    "        First we load our csv file, and divide our data into train and test classes.\n",
    "        After that we scale our data.\n",
    "    \"\"\"  \n",
    "    cellphone = pd.read_csv('dataset/Cellphone0.csv')\n",
    "    X = cellphone.iloc[:, :-1]\n",
    "    y = cellphone['Price']\n",
    "    x_train,x_test, y_train, y_test = train_test_split(X, y, test_size=test_size, random_state=42, shuffle=True)\n",
    "    \n",
    "    scaler = StandardScaler()\n",
    "    x_train = scaler.fit_transform(x_train)\n",
    "    x_test = scaler.transform(x_test)\n",
    "    # ----------------------------------------------------------------\n",
    "    return x_train,x_test, y_train, y_test, cellphone, scaler"
   ]
  },
  {
   "attachments": {},
   "cell_type": "markdown",
   "metadata": {},
   "source": [
    "<a name=\"train_model\"></a>\n",
    "# **<font color='lightblue'>📌train model</font>**\n",
    "---"
   ]
  },
  {
   "cell_type": "code",
   "execution_count": 3,
   "metadata": {},
   "outputs": [],
   "source": [
    "def train_model(x_train, y_train):\n",
    "    \"\"\" \n",
    "    Trains a linear regression model using the provided training data and saves the model to a file.\n",
    "    \"\"\"\n",
    "\n",
    "    model = LinearRegression()\n",
    "    model.fit(x_train, y_train)\n",
    "\n",
    "    path = 'model.pkl'\n",
    "    with open(path, 'wb') as file:\n",
    "        pickle.dump(model, file)\n",
    "\n",
    "    return model"
   ]
  },
  {
   "attachments": {},
   "cell_type": "markdown",
   "metadata": {},
   "source": [
    "<a name=\"show_results\"></a>\n",
    "# **<font color='lightblue'>📌show results</font>**\n",
    "---"
   ]
  },
  {
   "cell_type": "code",
   "execution_count": 4,
   "metadata": {},
   "outputs": [],
   "source": [
    "def show_results(model, X_test, y_test):\n",
    "    \"\"\"\n",
    "    Evaluate the model and display the results, \n",
    "    including the MSE, coefficients, and intercept.\n",
    "    \"\"\"\n",
    "    y_pred = model.predict(X_test)\n",
    "    mse = mean_squared_error(y_test, y_pred)\n",
    "    print(f\"Mean Squared Error: {mse:.2f}\")\n",
    "    print(\"Coefficients:\", model.coef_)\n",
    "    print(\"Intercept:\", model.intercept_)"
   ]
  },
  {
   "attachments": {},
   "cell_type": "markdown",
   "metadata": {},
   "source": [
    "<a name=\"print_results\"></a>\n",
    "# **<font color='lightblue'>📌print results</font>**\n",
    "---"
   ]
  },
  {
   "cell_type": "code",
   "execution_count": 5,
   "metadata": {},
   "outputs": [
    {
     "name": "stdout",
     "output_type": "stream",
     "text": [
      "Mean Squared Error: 0.00\n",
      "Coefficients: [ 6.83193279e-14  7.68887881e+02  0.00000000e+00 -1.56319402e-13\n",
      " -9.94759830e-14 -3.41060513e-13 -9.94759830e-14 -2.13162821e-13\n",
      "  1.13686838e-13 -5.11590770e-13  2.84217094e-14 -1.42108547e-14\n",
      "  9.59232693e-14]\n",
      "Intercept: 2207.7578125\n"
     ]
    }
   ],
   "source": [
    "x_train, x_test, y_train, y_test, cellphone, scaler = load_data()\n",
    "model = train_model(x_train, y_train)\n",
    "show_results(model, x_test, y_test)"
   ]
  },
  {
   "attachments": {},
   "cell_type": "markdown",
   "metadata": {},
   "source": [
    "<a name=\"test_samples\"></a>\n",
    "# **<font color='lightblue'>📌test model</font>**\n",
    "---"
   ]
  },
  {
   "cell_type": "code",
   "execution_count": 6,
   "metadata": {},
   "outputs": [],
   "source": [
    "def predictor(id):\n",
    "    \"\"\"\n",
    "        Loads a pre-trained model from a file, scales the input features, and predicts the target value \n",
    "        for a specific instance of data from the dataset.\n",
    "    \"\"\"\n",
    "    path = 'model.pkl'\n",
    "    with open(path, 'rb') as file:\n",
    "        predictor = pickle.load(file)\n",
    "    x = cellphone.iloc[id, :-1].values.reshape(1, -1)\n",
    "    y_2 = cellphone.iloc[id, -1]\n",
    "    x_scaled = scaler.transform(x)\n",
    "    y_pred2 = predictor.predict(x_scaled)\n",
    "    return f'predicted: {int(y_pred2)} \\nmain: {y_2}';"
   ]
  },
  {
   "cell_type": "code",
   "execution_count": 7,
   "metadata": {},
   "outputs": [
    {
     "name": "stdout",
     "output_type": "stream",
     "text": [
      "predicted: 2536 \n",
      "main: 8.4\n"
     ]
    },
    {
     "name": "stderr",
     "output_type": "stream",
     "text": [
      "d:\\AI-Term2\\tf_env\\Lib\\site-packages\\sklearn\\base.py:493: UserWarning: X does not have valid feature names, but StandardScaler was fitted with feature names\n",
      "  warnings.warn(\n",
      "C:\\Users\\Kavoshgaran\\AppData\\Local\\Temp\\ipykernel_15220\\3240987940.py:13: DeprecationWarning: Conversion of an array with ndim > 0 to a scalar is deprecated, and will error in future. Ensure you extract a single element from your array before performing this operation. (Deprecated NumPy 1.25.)\n",
      "  return f'predicted: {int(y_pred2)} \\nmain: {y_2}';\n"
     ]
    }
   ],
   "source": [
    "print(predictor(160))"
   ]
  },
  {
   "cell_type": "code",
   "execution_count": null,
   "metadata": {},
   "outputs": [],
   "source": []
  }
 ],
 "metadata": {
  "kernelspec": {
   "display_name": "tf_env",
   "language": "python",
   "name": "python3"
  },
  "language_info": {
   "codemirror_mode": {
    "name": "ipython",
    "version": 3
   },
   "file_extension": ".py",
   "mimetype": "text/x-python",
   "name": "python",
   "nbconvert_exporter": "python",
   "pygments_lexer": "ipython3",
   "version": "3.11.4"
  },
  "vscode": {
   "interpreter": {
    "hash": "aaed16a79abaacd96bc12fccc4c06c512e6a7b56bde31066ad72a81feff6489f"
   }
  }
 },
 "nbformat": 4,
 "nbformat_minor": 2
}
